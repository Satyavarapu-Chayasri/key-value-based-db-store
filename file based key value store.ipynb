{
 "cells": [
  {
   "cell_type": "code",
   "execution_count": null,
   "metadata": {},
   "outputs": [],
   "source": [
    "#displays value to the corresponding key\n",
    "import os\n",
    "import time\n",
    "import json\n",
    "\n",
    "def read(key):\n",
    "    isExist=os.path.exists(\"datastore.json\")  \n",
    "    if isExist!=True: \n",
    "        f=open('datastore.json','x')\n",
    "        print(\"file is empty\")\n",
    "    else:\n",
    "        with open('datastore.json','r') as openfile: \n",
    "            json_object = json.load(openfile) \n",
    "            if key in json_object:\n",
    "                print(json_object[key]) \n",
    "            else:\n",
    "                print(\"please enter valid key\")"
   ]
  },
  {
   "cell_type": "code",
   "execution_count": null,
   "metadata": {},
   "outputs": [],
   "source": [
    "#creates a new key value pair\n",
    "def create(key,value):\n",
    "   \n",
    "    with open('datastore.json','r') as openfile: \n",
    "        json_object = json.load(openfile) \n",
    "        json_object[key]=value\n",
    "            \n",
    "    with open(\"datastore.json\", 'w') as file:\n",
    "        json.dump(json_object,file)\n",
    "    print(\"created successfully\")\n",
    "    "
   ]
  },
  {
   "cell_type": "code",
   "execution_count": null,
   "metadata": {},
   "outputs": [],
   "source": [
    "#delete key-value from data store\n",
    "def delete(key):\n",
    "    isExist=os.path.exists(\"datastore.json\")  \n",
    "    if isExist!=True: \n",
    "        f=open('datastore.json','x')\n",
    "        print(\"file is empty\")\n",
    "    else:\n",
    "        with open('datastore.json','r') as openfile: \n",
    "            json_object = json.load(openfile) \n",
    "        if key in json_object:\n",
    "            del json_object[key]\n",
    "            with open(\"datastore.json\", 'w') as file:\n",
    "                json.dump(json_object,file)\n",
    "                print(\"deleted successfully\")\n",
    "        else:\n",
    "            print(\"please enter valid key\")\n",
    "    "
   ]
  },
  {
   "cell_type": "code",
   "execution_count": null,
   "metadata": {},
   "outputs": [],
   "source": [
    "#displays data store\n",
    "def display():  \n",
    "    isExist=os.path.exists(\"datastore.json\")  \n",
    "    if isExist!=True: \n",
    "        f=open('datastore.json','x')\n",
    "        print(\"file is empty\")\n",
    "    else:\n",
    "        with open('datastore.json','r') as openfile: \n",
    "            json_object = json.load(openfile) \n",
    "            print(json_object)\n",
    "    "
   ]
  },
  {
   "cell_type": "code",
   "execution_count": null,
   "metadata": {},
   "outputs": [],
   "source": [
    "#to check the time to live property\n",
    "def check_time_to_live_property():\n",
    "    for i in range(len(l)):\n",
    "        if l[i][1]!=0 and l[i][1]<time.time():\n",
    "            delete(l[i][0])\n",
    "            print(\"because of time to live property\")\n",
    "            \n",
    "    "
   ]
  },
  {
   "cell_type": "code",
   "execution_count": null,
   "metadata": {},
   "outputs": [],
   "source": [
    "l=[]\n",
    "while True:\n",
    "    print(\"enter 1:create 2.read 3.delete 4.display 5.exit:\")\n",
    "    option=input()\n",
    "    check_time_to_live_property()\n",
    "    if option==\"1\":\n",
    "        isExist=os.path.exists(\"datastore.json\")  \n",
    "        if isExist!=True:\n",
    "            json_object=json.loads(\"{}\")\n",
    "            with open(\"datastore.json\", 'w') as file:\n",
    "                json.dump(json_object,file)\n",
    "        file_size=os.path.getsize('datastore.json') \n",
    "        if file_size>(1024*1024*1024):\n",
    "            print(\"file size is exceeded the limit of 1GB\")\n",
    "        else:\n",
    "            key=input(\"enter key:\")\n",
    "            value=input(\"enter value(json):\")\n",
    "            timeout=input(\"enter time to live property value(optional).provide 0 if doesnot want to set property\")\n",
    "            value=json.loads(value)\n",
    "            if len(key)<=32 and len(value)<(16*1024*1024):\n",
    "                key='\"{}\"'.format(key)\n",
    "                key=json.loads(key)\n",
    "                create(key,value)\n",
    "                if timeout==\"0\":\n",
    "                    temp=[key,0]\n",
    "                else:\n",
    "                    temp=[key,time.time()+float(timeout)]\n",
    "                l.append(temp)\n",
    "            else:\n",
    "                print(\"please enter key of size less than or equal to 32 char and json value size less than or equal to 16kb\")\n",
    "    elif option==\"2\":\n",
    "        read(input(\"enter key:\"))\n",
    "    elif option==\"3\":\n",
    "        delete(input(\"enter key to delete:\"))\n",
    "    elif option==\"4\":\n",
    "        display()\n",
    "    else:\n",
    "        break\n",
    "        "
   ]
  },
  {
   "cell_type": "code",
   "execution_count": null,
   "metadata": {},
   "outputs": [],
   "source": [
    "\n"
   ]
  },
  {
   "cell_type": "code",
   "execution_count": null,
   "metadata": {},
   "outputs": [],
   "source": []
  }
 ],
 "metadata": {
  "kernelspec": {
   "display_name": "Python 3",
   "language": "python",
   "name": "python3"
  },
  "language_info": {
   "codemirror_mode": {
    "name": "ipython",
    "version": 3
   },
   "file_extension": ".py",
   "mimetype": "text/x-python",
   "name": "python",
   "nbconvert_exporter": "python",
   "pygments_lexer": "ipython3",
   "version": "3.7.4"
  }
 },
 "nbformat": 4,
 "nbformat_minor": 2
}
